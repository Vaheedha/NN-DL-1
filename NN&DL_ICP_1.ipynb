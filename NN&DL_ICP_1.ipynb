{
  "nbformat": 4,
  "nbformat_minor": 0,
  "metadata": {
    "colab": {
      "provenance": [],
      "authorship_tag": "ABX9TyMnDz0O6qE+3sU9CsX2ESZP",
      "include_colab_link": true
    },
    "kernelspec": {
      "name": "python3",
      "display_name": "Python 3"
    },
    "language_info": {
      "name": "python"
    }
  },
  "cells": [
    {
      "cell_type": "markdown",
      "metadata": {
        "id": "view-in-github",
        "colab_type": "text"
      },
      "source": [
        "<a href=\"https://colab.research.google.com/github/Vaheedha/NN-DL-1/blob/main/NN%26DL_ICP_1.ipynb\" target=\"_parent\"><img src=\"https://colab.research.google.com/assets/colab-badge.svg\" alt=\"Open In Colab\"/></a>"
      ]
    },
    {
      "cell_type": "code",
      "execution_count": 1,
      "metadata": {
        "colab": {
          "base_uri": "https://localhost:8080/"
        },
        "id": "4KEscKj1zgQ4",
        "outputId": "5780e974-7f61-4f46-f2a4-8c0a9de6d258"
      },
      "outputs": [
        {
          "output_type": "stream",
          "name": "stdout",
          "text": [
            "enter a word \n",
            "python\n",
            "htyp\n"
          ]
        }
      ],
      "source": [
        "# QUE 1A\n",
        "\n",
        "ipString = input(\"enter a word \\n\")\n",
        "opString = (ipString[:-2])[::-1]    # ([:-2] - to remove last 2 characters of string ) ([::-1] - to reverse a string )\n",
        "print (opString)"
      ]
    },
    {
      "cell_type": "code",
      "source": [
        "# QUE 1B\n",
        "\n",
        "num1 = int(input(\"enter 1st number \\n\"))\n",
        "num2 = int(input(\"enter 2nd number \\n\"))\n",
        "sum = num1 + num2\n",
        "diff = num1 - num2\n",
        "prod = num1 * num2\n",
        "pow = num1 ** num2\n",
        "print (\"sum : \", sum)\n",
        "print (\"difference : \", diff)\n",
        "print (\"product : \", prod)\n",
        "print (\"num1 power num2 : \", pow)"
      ],
      "metadata": {
        "colab": {
          "base_uri": "https://localhost:8080/"
        },
        "id": "HUv1NU_FzzYw",
        "outputId": "efe3f42f-5a93-4a79-a6f1-c4c2c1155a7f"
      },
      "execution_count": 2,
      "outputs": [
        {
          "output_type": "stream",
          "name": "stdout",
          "text": [
            "enter 1st number \n",
            "5\n",
            "enter 2nd number \n",
            "2\n",
            "sum :  7\n",
            "difference :  3\n",
            "product :  10\n",
            "num1 power num2 :  25\n"
          ]
        }
      ]
    },
    {
      "cell_type": "code",
      "source": [
        "# QUE 2\n",
        "\n",
        "ipString = str(input(\"enter a sentence \\n\"))\n",
        "opString = ipString.replace(\"python\", \"pythons\")\n",
        "print (opString)"
      ],
      "metadata": {
        "colab": {
          "base_uri": "https://localhost:8080/"
        },
        "id": "pQ-F3edVz4Nf",
        "outputId": "654e4bb6-54ca-416a-821a-1bff7b399369"
      },
      "execution_count": 3,
      "outputs": [
        {
          "output_type": "stream",
          "name": "stdout",
          "text": [
            "enter a sentence \n",
            "I love playing python\n",
            "I love playing pythons\n"
          ]
        }
      ]
    },
    {
      "cell_type": "code",
      "source": [
        "# QUE 3\n",
        "\n",
        "classScore = int(input(\"enter class score \\n\"))\n",
        "\n",
        "if ((classScore >= 90) and (classScore < 100)) :\n",
        "  print(\"GRADE A\")\n",
        "elif ((classScore >= 80) and (classScore < 90)) :\n",
        "  print(\"GRADE B\")\n",
        "elif ((classScore >= 70) and (classScore < 80)) :\n",
        "  print(\"GRADE C\")\n",
        "elif ((classScore >= 60) and (classScore < 70)) :\n",
        "  print(\"GRADE D\")\n",
        "elif ((classScore >= 0) and (classScore < 60)) :\n",
        "  print(\"GRADE F\")\n",
        "else:\n",
        "  print(\"INVALID INPUT\")\n"
      ],
      "metadata": {
        "colab": {
          "base_uri": "https://localhost:8080/"
        },
        "id": "boRrCxSGz7Y8",
        "outputId": "ca2738ad-e0a0-4722-da93-d2853212f2d0"
      },
      "execution_count": 4,
      "outputs": [
        {
          "output_type": "stream",
          "name": "stdout",
          "text": [
            "enter class score \n",
            "90\n",
            "GRADE A\n"
          ]
        }
      ]
    }
  ]
}